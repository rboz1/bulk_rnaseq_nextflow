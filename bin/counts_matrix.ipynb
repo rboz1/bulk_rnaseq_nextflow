{
 "cells": [
  {
   "cell_type": "code",
   "execution_count": 1,
   "metadata": {},
   "outputs": [],
   "source": [
    "import os\n",
    "import pandas as pd"
   ]
  },
  {
   "cell_type": "code",
   "execution_count": null,
   "metadata": {},
   "outputs": [],
   "source": [
    "first_file = verse_files[0]\n",
    "first_basename = os.path.basename(first_file).split(\".\")[0]\n",
    "\n",
    "merged_df = pd.read_csv(first_file, delimiter=\"\\t\", names=[\"gene\", first_basename], skiprows=1)\n",
    "\n",
    "for file in verse_files[1:]:\n",
    "    basename = os.path.basename(file).split(\".\")[0]\n",
    "    temp_df = pd.read_csv(file, delimiter=\"\\t\", names=[\"gene\", basename], skiprows=1)\n",
    "    merged_df = merged_df.merge(temp_df, how=\"inner\", on=\"gene\")\n",
    "\n",
    "merged_df.to_csv(output_file, index=False)"
   ]
  }
 ],
 "metadata": {
  "kernelspec": {
   "display_name": "crispr_lab",
   "language": "python",
   "name": "python3"
  },
  "language_info": {
   "codemirror_mode": {
    "name": "ipython",
    "version": 3
   },
   "file_extension": ".py",
   "mimetype": "text/x-python",
   "name": "python",
   "nbconvert_exporter": "python",
   "pygments_lexer": "ipython3",
   "version": "3.12.9"
  },
  "orig_nbformat": 4
 },
 "nbformat": 4,
 "nbformat_minor": 2
}
